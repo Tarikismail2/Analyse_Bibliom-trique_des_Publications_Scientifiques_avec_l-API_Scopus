{
 "cells": [
  {
   "cell_type": "markdown",
   "id": "04d90cf0-2491-4b1e-8130-9823980505e7",
   "metadata": {},
   "source": [
    "## Visualize the data to better understand the trends and distributions."
   ]
  },
  {
   "cell_type": "code",
   "execution_count": 1,
   "id": "d3b57135-2adc-4545-a265-660807a97a00",
   "metadata": {},
   "outputs": [],
   "source": [
    "import matplotlib.pyplot as plt\n",
    "import seaborn as sns"
   ]
  },
  {
   "cell_type": "markdown",
   "id": "1188b462-8986-41d6-b172-f9d18aca71f6",
   "metadata": {},
   "source": [
    "## Set up the visual style"
   ]
  },
  {
   "cell_type": "code",
   "execution_count": 2,
   "id": "a23fe9fe-bc22-4024-b8b1-0a4cdf207ee4",
   "metadata": {},
   "outputs": [],
   "source": [
    "sns.set(style=\"whitegrid\")"
   ]
  },
  {
   "cell_type": "markdown",
   "id": "7bbaff69-17d0-4ce7-8807-907f58194737",
   "metadata": {},
   "source": [
    "## Publications per year"
   ]
  },
  {
   "cell_type": "code",
   "execution_count": null,
   "id": "cf4c58d5-5253-4c1f-9299-fbb75bd8554e",
   "metadata": {},
   "outputs": [],
   "source": [
    "plt.figure(figsize=(8, 4))\n",
    "sns.lineplot(data=publications_per_year, x='Year', y='Publications')\n",
    "plt.title('Publications Over Time')\n",
    "plt.xlabel('Year')\n",
    "plt.ylabel('Number of Publications')\n",
    "plt.show()"
   ]
  },
  {
   "cell_type": "markdown",
   "id": "d86baec7-2a6c-4472-9341-6815e2010c24",
   "metadata": {},
   "source": [
    "## Test Git & Github"
   ]
  },
  {
   "cell_type": "code",
   "execution_count": null,
   "id": "79737870-adc3-45c0-9f69-b50f13023cf4",
   "metadata": {},
   "outputs": [],
   "source": []
  }
 ],
 "metadata": {
  "kernelspec": {
   "display_name": "Python 3 (ipykernel)",
   "language": "python",
   "name": "python3"
  },
  "language_info": {
   "codemirror_mode": {
    "name": "ipython",
    "version": 3
   },
   "file_extension": ".py",
   "mimetype": "text/x-python",
   "name": "python",
   "nbconvert_exporter": "python",
   "pygments_lexer": "ipython3",
   "version": "3.11.7"
  }
 },
 "nbformat": 4,
 "nbformat_minor": 5
}
